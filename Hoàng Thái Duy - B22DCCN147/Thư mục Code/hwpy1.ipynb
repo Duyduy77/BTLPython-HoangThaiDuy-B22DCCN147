{
 "cells": [
  {
   "cell_type": "code",
   "execution_count": 1,
   "id": "5ccfd531-089b-4b79-a839-0c4b1f0be5fa",
   "metadata": {},
   "outputs": [],
   "source": [
    "import requests \n",
    "from bs4 import BeautifulSoup as BS\n",
    "from bs4 import Comment \n",
    "import pandas as pd  \n",
    "import numpy as np"
   ]
  },
  {
   "cell_type": "code",
   "execution_count": 2,
   "id": "8b8d7fa3-f61f-44f9-a25e-1ae94f9abd50",
   "metadata": {},
   "outputs": [],
   "source": [
    "def get_table(\n",
    "    url: str\n",
    "):\n",
    "    page = requests.get(url) \n",
    "    soup = BS(page.text, 'html.parser') \n",
    "\n",
    "    comments = soup.find_all(string=lambda text: isinstance(text, Comment))  \n",
    "\n",
    "    # print(\"IMPORTANT:\", len(comments)) \n",
    "\n",
    "    comment_soup = BS(comments[28], 'html.parser') \n",
    "\n",
    "    table = comment_soup.find('table')\n",
    "\n",
    "    # handling headers \n",
    "    thead = table.find('thead')  \n",
    "\n",
    "    rows = thead.find_all('tr') \n",
    "\n",
    "    prefixs = [] \n",
    "    heads = rows[0].find_all('th') \n",
    "    for head in heads:\n",
    "        if num := head.get('colspan'):\n",
    "            content = head.text.replace(' ', '_') \n",
    "            prefixs.append((int(num), content)) \n",
    "\n",
    "    prefixs.append((1, '')) \n",
    "\n",
    "    columns = [] \n",
    "    heads = rows[-1].find_all('th') \n",
    "\n",
    "    i = 0 \n",
    "    for num, prefix in prefixs:\n",
    "        for j in range(i, i + num):\n",
    "            field = prefix + ('' if prefix == '' else '_') + heads[j].text.replace(' ', '')\n",
    "            columns.append(field)\n",
    "        i += num \n",
    "\n",
    "    df = pd.DataFrame(columns=columns[1:])   \n",
    "\n",
    "    # handling body\n",
    "    tbody = table.find('tbody') \n",
    "\n",
    "    rows = tbody.find_all('tr') \n",
    "    i = 0 \n",
    "\n",
    "    for row in rows:\n",
    "        datas = row.find_all('td') \n",
    "        if len(datas) != 0:\n",
    "            datas = [data.text for data in datas] \n",
    "            df.loc[i] = datas \n",
    "            i += 1\n",
    "\n",
    "    return df"
   ]
  },
  {
   "cell_type": "code",
   "execution_count": 3,
   "id": "c2c0db94-29a6-479c-b561-20436014377a",
   "metadata": {},
   "outputs": [],
   "source": [
    "tables = [] \n",
    "urls = [\n",
    "    'https://fbref.com/en/comps/9/2023-2024/stats/2023-2024-Premier-League-Stats',\n",
    "    'https://fbref.com/en/comps/9/2023-2024/keepers/2023-2024-Premier-League-Stats',\n",
    "    'https://fbref.com/en/comps/9/2023-2024/shooting/2023-2024-Premier-League-Stats',\n",
    "    'https://fbref.com/en/comps/9/2023-2024/passing/2023-2024-Premier-League-Stats',\n",
    "    'https://fbref.com/en/comps/9/2023-2024/passing_types/2023-2024-Premier-League-Stats',  \n",
    "    'https://fbref.com/en/comps/9/2023-2024/gca/2023-2024-Premier-League-Stats', \n",
    "    'https://fbref.com/en/comps/9/2023-2024/defense/2023-2024-Premier-League-Stats', \n",
    "    'https://fbref.com/en/comps/9/2023-2024/possession/2023-2024-Premier-League-Stats', \n",
    "    'https://fbref.com/en/comps/9/2023-2024/playingtime/2023-2024-Premier-League-Stats',\n",
    "    'https://fbref.com/en/comps/9/2023-2024/misc/2023-2024-Premier-League-Stats'\n",
    "]\n",
    "\n",
    "for url in urls:\n",
    "    table = get_table(url)  \n",
    "    tables.append(table)  "
   ]
  },
  {
   "cell_type": "code",
   "execution_count": 4,
   "id": "e68ab7d3-e67d-43fd-a1c2-0e86102ada1b",
   "metadata": {},
   "outputs": [],
   "source": [
    "columns = [\n",
    "\t['stats', ['Player', 'Nation', 'Pos', 'Squad', 'Age', 'Playing_Time_MP',\n",
    "       'Playing_Time_Starts', 'Playing_Time_Min',\n",
    "       'Performance_Ast',\n",
    "       'Performance_G-PK', 'Performance_PK',\n",
    "       'Performance_CrdY', 'Performance_CrdR', 'Expected_xG', 'Expected_npxG',\n",
    "       'Expected_xAG','Progression_PrgC',\n",
    "       'Progression_PrgP', 'Progression_PrgR', 'Per_90_Minutes_Gls',\n",
    "       'Per_90_Minutes_Ast', 'Per_90_Minutes_G+A', 'Per_90_Minutes_G-PK',\n",
    "       'Per_90_Minutes_G+A-PK', 'Per_90_Minutes_xG', 'Per_90_Minutes_xAG',\n",
    "       'Per_90_Minutes_xG+xAG', 'Per_90_Minutes_npxG',\n",
    "       'Per_90_Minutes_npxG+xAG']],\n",
    "    ['keepers', ['Player', 'Nation', 'Pos', 'Squad', 'Age',\n",
    "       'Performance_GA', 'Performance_GA90', 'Performance_SoTA',\n",
    "       'Performance_Saves', 'Performance_Save%', 'Performance_W',\n",
    "       'Performance_D', 'Performance_L', 'Performance_CS', 'Performance_CS%',\n",
    "       'Penalty_Kicks_PKatt', 'Penalty_Kicks_PKA', 'Penalty_Kicks_PKsv',\n",
    "       'Penalty_Kicks_PKm', 'Penalty_Kicks_Save%']],\n",
    "    ['shooting', ['Player', 'Nation', 'Pos', 'Squad', 'Age',\n",
    "       'Standard_Gls', 'Standard_Sh', 'Standard_SoT', 'Standard_SoT%',\n",
    "       'Standard_Sh/90', 'Standard_SoT/90', 'Standard_G/Sh', 'Standard_G/SoT',\n",
    "       'Standard_Dist', 'Standard_FK', 'Standard_PK', 'Standard_PKatt',\n",
    "       'Expected_xG', 'Expected_npxG', 'Expected_npxG/Sh', 'Expected_G-xG',\n",
    "       'Expected_np:G-xG']],\n",
    "    ['passing', ['Player', 'Nation', 'Pos', 'Squad', 'Age', 'Total_Cmp',\n",
    "       'Total_Att', 'Total_Cmp%', 'Total_TotDist', 'Total_PrgDist',\n",
    "       'Short_Cmp', 'Short_Att', 'Short_Cmp%', 'Medium_Cmp', 'Medium_Att',\n",
    "       'Medium_Cmp%', 'Long_Cmp', 'Long_Att', 'Long_Cmp%', 'Ast', 'xAG',\n",
    "       'Expected_xA', 'Expected_A-xAG', 'KP', '1/3', 'PPA', 'CrsPA', 'PrgP']],\n",
    "    ['passingtype', ['Player', 'Nation', 'Pos', 'Squad', 'Age',\n",
    "       'Pass_Types_Live', 'Pass_Types_Dead', 'Pass_Types_FK', 'Pass_Types_TB',\n",
    "       'Pass_Types_Sw', 'Pass_Types_Crs', 'Pass_Types_TI', 'Pass_Types_CK',\n",
    "       'Corner_Kicks_In', 'Corner_Kicks_Out', 'Corner_Kicks_Str',\n",
    "       'Outcomes_Cmp', 'Outcomes_Off', 'Outcomes_Blocks']],\n",
    "    ['gca', ['Player', 'Nation', 'Pos', 'Squad', 'Age', 'SCA_SCA',\n",
    "       'SCA_SCA90', 'SCA_Types_PassLive', 'SCA_Types_PassDead', 'SCA_Types_TO',\n",
    "       'SCA_Types_Sh', 'SCA_Types_Fld', 'SCA_Types_Def', 'GCA_GCA',\n",
    "       'GCA_GCA90', 'GCA_Types_PassLive', 'GCA_Types_PassDead', 'GCA_Types_TO',\n",
    "       'GCA_Types_Sh', 'GCA_Types_Fld', 'GCA_Types_Def']],\n",
    "    ['defense', ['Player', 'Nation', 'Pos', 'Squad', 'Age', 'Tackles_Tkl',\n",
    "       'Tackles_TklW', 'Tackles_Def3rd', 'Tackles_Mid3rd', 'Tackles_Att3rd',\n",
    "       'Challenges_Tkl', 'Challenges_Att', 'Challenges_Tkl%',\n",
    "       'Challenges_Lost', 'Blocks_Blocks', 'Blocks_Sh', 'Blocks_Pass', 'Int',\n",
    "       'Tkl+Int', 'Clr', 'Err']], \n",
    "    ['possession', ['Player', 'Nation', 'Pos', 'Squad', 'Age',\n",
    "       'Touches_Touches', 'Touches_DefPen', 'Touches_Def3rd', 'Touches_Mid3rd',\n",
    "       'Touches_Att3rd', 'Touches_AttPen', 'Touches_Live', 'Take-Ons_Att',\n",
    "       'Take-Ons_Succ', 'Take-Ons_Succ%', 'Take-Ons_Tkld', 'Take-Ons_Tkld%',\n",
    "       'Carries_Carries', 'Carries_TotDist', 'Carries_PrgDist', 'Carries_PrgC',\n",
    "       'Carries_1/3', 'Carries_CPA', 'Carries_Mis', 'Carries_Dis',\n",
    "       'Receiving_Rec', 'Receiving_PrgR']],\n",
    "    ['playingtime', ['Player', 'Nation', 'Pos', 'Squad', 'Age',\n",
    "       'Starts_Starts', 'Starts_Mn/Start', 'Starts_Compl',\n",
    "       'Subs_Subs', 'Subs_Mn/Sub', 'Subs_unSub', 'Team_Success_PPM',\n",
    "       'Team_Success_onG', 'Team_Success_onGA',\n",
    "       'Team_Success_(xG)_onxG',\n",
    "       'Team_Success_(xG)_onxGA']],\n",
    "    ['misc', ['Player', 'Nation', 'Pos', 'Squad', 'Age',\n",
    "       'Performance_Fls', 'Performance_Fld', 'Performance_Off',\n",
    "       'Performance_Crs',\n",
    "\t\t'Performance_OG',\n",
    "       'Performance_Recov', 'Aerial_Duels_Won', 'Aerial_Duels_Lost',\n",
    "       'Aerial_Duels_Won%']]\n",
    "]"
   ]
  },
  {
   "cell_type": "code",
   "execution_count": 5,
   "id": "b165aeff-ca60-425d-93de-a8ed98bcf8f5",
   "metadata": {},
   "outputs": [],
   "source": [
    "for i, table in enumerate(tables): \n",
    "    new_table = table.filter(items=columns[i][1], axis=1)  \n",
    "    tables[i] = new_table"
   ]
  },
  {
   "cell_type": "code",
   "execution_count": 6,
   "id": "a9672e02-04f7-4b38-a03b-a3048fad3bfe",
   "metadata": {},
   "outputs": [],
   "source": [
    "common_columns = ['Player', 'Nation', 'Pos', 'Squad', 'Age'] \n",
    "\n",
    "results = tables[0] \n",
    "\n",
    "for i in range(1, len(tables)):  \n",
    "    results = results.merge(tables[i], how = 'outer', on = common_columns)   "
   ]
  },
  {
   "cell_type": "code",
   "execution_count": 7,
   "id": "14bc960a-24ad-4c82-9200-96422a628ef5",
   "metadata": {},
   "outputs": [
    {
     "name": "stdout",
     "output_type": "stream",
     "text": [
      "<class 'pandas.core.frame.DataFrame'>\n",
      "RangeIndex: 746 entries, 0 to 745\n",
      "Columns: 172 entries, Player to Aerial_Duels_Won%\n",
      "dtypes: object(172)\n",
      "memory usage: 1002.6+ KB\n",
      "<class 'pandas.core.frame.DataFrame'>\n",
      "RangeIndex: 746 entries, 0 to 745\n",
      "Columns: 172 entries, Player to Aerial_Duels_Won%\n",
      "dtypes: object(172)\n",
      "memory usage: 1002.6+ KB\n"
     ]
    }
   ],
   "source": [
    "results.info()\n",
    "# results.dropna(subset=['Age', 'Playing_Time_Min'], inplace=True)\n",
    "results.info()"
   ]
  },
  {
   "cell_type": "code",
   "execution_count": 8,
   "id": "40fc65dd-cdbc-4bdc-a1a6-ba537bb2dce0",
   "metadata": {},
   "outputs": [],
   "source": [
    "# results['Age'] = results['Age'].astype(int)\n",
    "# results['Playing_Time_Min'] = results['Playing_Time_Min'].astype(str).str.replace(',', '').astype(int)  \n",
    "\n",
    "# results = results[results['Playing_Time_Min'] > 90]\n",
    "# results.sort_values(by=['firstname', 'Age'], ascending=[True, False], inplace=True)\n",
    "# results.drop('firstname', axis=1, inplace=True)"
   ]
  },
  {
   "cell_type": "code",
   "execution_count": 9,
   "id": "2ea21c95-1c82-42dc-8ee8-c1672933b12f",
   "metadata": {},
   "outputs": [],
   "source": [
    "# results['firstname'] = results['Player'].str.split().str[0]"
   ]
  },
  {
   "cell_type": "code",
   "execution_count": 10,
   "id": "f74e8bd4-09aa-4c93-a7c0-b48bc8cd5688",
   "metadata": {},
   "outputs": [],
   "source": [
    "# results = results.convert_dtypes() "
   ]
  },
  {
   "cell_type": "code",
   "execution_count": 11,
   "id": "4e652f8b-8bb6-4884-bf38-4d96b4004648",
   "metadata": {},
   "outputs": [],
   "source": [
    "# for column in results.columns: \n",
    "#     print(column, results[column].dtype) \n",
    "\n",
    "# results.to_csv('final.csv', index=False)"
   ]
  },
  {
   "cell_type": "code",
   "execution_count": 12,
   "id": "e92a8715-4bc0-4018-babd-e4ff1ad4eda8",
   "metadata": {},
   "outputs": [],
   "source": [
    "# df = results.copy()"
   ]
  },
  {
   "cell_type": "code",
   "execution_count": 13,
   "id": "ffa3cb3e-11ff-47a0-b965-8888f18e1c42",
   "metadata": {},
   "outputs": [],
   "source": [
    "# for column in df.columns[5:]: \n",
    "#     df[column] = df[column]"
   ]
  },
  {
   "cell_type": "code",
   "execution_count": 14,
   "id": "6bdf3dfa-7716-4014-bc67-85bd9eedd6b2",
   "metadata": {},
   "outputs": [
    {
     "name": "stdout",
     "output_type": "stream",
     "text": [
      "<class 'pandas.core.frame.DataFrame'>\n",
      "RangeIndex: 746 entries, 0 to 745\n",
      "Columns: 172 entries, Player to Aerial_Duels_Won%\n",
      "dtypes: string(172)\n",
      "memory usage: 1002.6 KB\n",
      "0      1237\n",
      "1         6\n",
      "2       121\n",
      "3      1617\n",
      "4      1419\n",
      "       ... \n",
      "741    <NA>\n",
      "742    <NA>\n",
      "743    <NA>\n",
      "744    <NA>\n",
      "745    <NA>\n",
      "Name: Playing_Time_Min, Length: 746, dtype: Int64\n"
     ]
    },
    {
     "data": {
      "text/plain": [
       "Player               string[python]\n",
       "Nation               string[python]\n",
       "Pos                  string[python]\n",
       "Squad                string[python]\n",
       "Age                         Float64\n",
       "                          ...      \n",
       "Performance_OG                Int64\n",
       "Performance_Recov             Int64\n",
       "Aerial_Duels_Won              Int64\n",
       "Aerial_Duels_Lost             Int64\n",
       "Aerial_Duels_Won%           Float64\n",
       "Length: 172, dtype: object"
      ]
     },
     "execution_count": 14,
     "metadata": {},
     "output_type": "execute_result"
    }
   ],
   "source": [
    "df = results.copy() \n",
    "df = df.convert_dtypes() \n",
    "df.info() \n",
    "df['Playing_Time_Min'] = df['Playing_Time_Min'].str.replace(',', '').astype('Int64')\n",
    "\n",
    "for column in df.columns[4:]: \n",
    "    df[column] = pd.to_numeric(df[column], errors='coerce')   \n",
    "\n",
    "\n",
    "    # if df[column].dropna().apply(float.is_integer).all\n",
    "# df['Age'] = df['Age'].astype('Int64')\n",
    "print(df['Playing_Time_Min'])\n",
    "df.dtypes"
   ]
  },
  {
   "cell_type": "code",
   "execution_count": 15,
   "id": "3bc3c136-5ffb-43d6-8dab-3d9536fc1c58",
   "metadata": {},
   "outputs": [],
   "source": [
    "df = df[df['Playing_Time_Min'] > 90]   \n",
    "df['firstname'] = df['Player'].str.split().str[0].astype('string')\n",
    "\n",
    "df.to_csv('results.csv', index=False) "
   ]
  },
  {
   "cell_type": "code",
   "execution_count": 16,
   "id": "6601f29f-6aeb-415a-b075-fd2fd6363757",
   "metadata": {},
   "outputs": [],
   "source": [
    "df_sorted = df.sort_values(by=['firstname', 'Age'], ascending=[True, False]) \n"
   ]
  },
  {
   "cell_type": "code",
   "execution_count": 17,
   "id": "e1a799cf-4cac-4f36-a393-c2516845032b",
   "metadata": {},
   "outputs": [],
   "source": [
    "df_sorted.drop('firstname', axis=1, inplace=True) \n",
    "df_sorted.to_csv('results.csv', index=False)"
   ]
  }
 ],
 "metadata": {
  "kernelspec": {
   "display_name": "base",
   "language": "python",
   "name": "python3"
  },
  "language_info": {
   "codemirror_mode": {
    "name": "ipython",
    "version": 3
   },
   "file_extension": ".py",
   "mimetype": "text/x-python",
   "name": "python",
   "nbconvert_exporter": "python",
   "pygments_lexer": "ipython3",
   "version": "3.11.5"
  }
 },
 "nbformat": 4,
 "nbformat_minor": 5
}
